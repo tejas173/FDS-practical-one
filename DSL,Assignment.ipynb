{
  "nbformat": 4,
  "nbformat_minor": 0,
  "metadata": {
    "accelerator": "GPU",
    "colab": {
      "name": "DSL,Assignment",
      "provenance": [],
      "collapsed_sections": [],
      "authorship_tag": "ABX9TyOpyNvNhGpJybhXlofo167i",
      "include_colab_link": true
    },
    "kernelspec": {
      "display_name": "Python 3",
      "name": "python3"
    }
  },
  "cells": [
    {
      "cell_type": "markdown",
      "metadata": {
        "id": "view-in-github",
        "colab_type": "text"
      },
      "source": [
        "<a href=\"https://colab.research.google.com/github/tejas173/FDS-practical-one/blob/main/DSL%2CAssignment.ipynb\" target=\"_parent\"><img src=\"https://colab.research.google.com/assets/colab-badge.svg\" alt=\"Open In Colab\"/></a>"
      ]
    },
    {
      "cell_type": "code",
      "metadata": {
        "colab": {
          "base_uri": "https://localhost:8080/"
        },
        "id": "cMd8dXFurT-7",
        "outputId": "f9b8deaa-09dc-4cdc-dcff-74bef2adf938"
      },
      "source": [
        "def sum_of_list(l):\n",
        "    sum = 0\n",
        "    for i in l:\n",
        "        if i == -999:\n",
        "            continue\n",
        "        sum = sum + i\n",
        "    return sum\n",
        "    \n",
        "def len_of_list(l):\n",
        "    for i in l:\n",
        "        pass\n",
        "    return i\n",
        "\n",
        "def find_highest(l):\n",
        "    highest = -999\n",
        "    for i in l:\n",
        "        if i > highest:\n",
        "            highest = i\n",
        "    return highest\n",
        "\n",
        "def find_lowest(l):\n",
        "    lowest = 999\n",
        "    for i in l:\n",
        "        if i < lowest:\n",
        "            if i == -999:\n",
        "                continue\n",
        "            lowest = i\n",
        "    return lowest\n",
        "\n",
        "def count_frequency(l, mark):\n",
        "    count = 0\n",
        "    for i in l:\n",
        "        if i == mark:\n",
        "            count = count + 1\n",
        "    return count\n",
        "\n",
        "def find_highest_frequency(marks):\n",
        "    frequency = 0\n",
        "    highest_frequency = 0\n",
        "    for i in marks:\n",
        "        count = count_frequency(marks, i)\n",
        "        if count > frequency:\n",
        "            highest_frequency = i\n",
        "            frequency = count\n",
        "    return highest_frequency\n",
        "\n",
        "\n",
        "if __name__ == \"__main__\":\n",
        "    marks = []\n",
        "    for i in range(int(input(\"Total number of students: \"))):\n",
        "        mark = int(input(f\"Score of student no {i+1} in FDS: \"))\n",
        "        marks.append(mark)\n",
        "\n",
        "    print(f\"Highest marks: {find_highest(marks)}\")\n",
        "    print(f\"Lowest marks: {find_lowest(marks)}\")\n",
        "    print(f\"Average marks: {sum_of_list(marks)/(len(marks) - count_frequency(marks, -999))}\")\n",
        "    print(f\"No of students absent: {count_frequency(marks, -999)}\")\n",
        "    print(f\"Most frequent marks are {find_highest_frequency(marks)}\")"
      ],
      "execution_count": null,
      "outputs": [
        {
          "output_type": "stream",
          "name": "stdout",
          "text": [
            "Total number of students: 5\n",
            "Score of student no 1 in FDS: 23\n",
            "Score of student no 2 in FDS: 34\n",
            "Score of student no 3 in FDS: 27\n",
            "Score of student no 4 in FDS: 13\n",
            "Score of student no 5 in FDS: 45\n",
            "Highest marks: 45\n",
            "Lowest marks: 13\n",
            "Average marks: 28.4\n",
            "No of students absent: 0\n",
            "Most frequent marks are 23\n"
          ]
        }
      ]
    }
  ]
}